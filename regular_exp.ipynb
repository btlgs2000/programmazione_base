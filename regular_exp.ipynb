{
 "cells": [
  {
   "cell_type": "code",
   "execution_count": null,
   "metadata": {},
   "outputs": [],
   "source": [
    "def is_phone_number(text):\n",
    "    \"\"\"Verifica se una \n",
    "    # Controlliamo i trattini\n",
    "    if text[3] != \"-\":\n",
    "        return False\n",
    "\n",
    "    if text[7] != \"-\":\n",
    "        return False\n",
    "    \n",
    "    return True se stringa è un numero di\n",
    "    telefono valido.\n",
    "\n",
    "    Args:\n",
    "        text (str): il testo da verificare\n",
    "    \"\"\"\n",
    "    \n",
    "    if len(text) != 12:\n",
    "        return False\n",
    "    \n",
    "    # Controlliamo le cifre\n",
    "    if not text[0:3].isdecimal():\n",
    "        return False\n",
    "    \n",
    "    if not text[4:7].isdecimal():\n",
    "        return False\n",
    "\n",
    "    if not text[8:].isdecimal():\n",
    "        return False\n",
    "    "
   ]
  },
  {
   "cell_type": "code",
   "execution_count": 2,
   "metadata": {},
   "outputs": [],
   "source": [
    "import re"
   ]
  },
  {
   "cell_type": "code",
   "execution_count": 3,
   "metadata": {},
   "outputs": [
    {
     "name": "stdout",
     "output_type": "stream",
     "text": [
      "<re.Match object; span=(0, 12), match='333-232-3456'>\n"
     ]
    }
   ],
   "source": [
    "# espressione regolare che corrisponde ad un numero\n",
    "# telefonico americano, es. 333-345-7676\n",
    "pattern = r\"\\d\\d\\d-\\d\\d\\d-\\d\\d\\d\\d\"\n",
    "match = re.fullmatch(pattern, \"333-232-3456\")\n",
    "print(match)"
   ]
  },
  {
   "cell_type": "code",
   "execution_count": 4,
   "metadata": {},
   "outputs": [
    {
     "name": "stdout",
     "output_type": "stream",
     "text": [
      "È un numero di telefono americano!\n"
     ]
    }
   ],
   "source": [
    "s = \"333-232-3416\"\n",
    "\n",
    "if re.fullmatch(r\"\\d\\d\\d-\\d\\d\\d-\\d\\d\\d\\d\", s) is not None:\n",
    "    print(\"È un numero di telefono americano!\")"
   ]
  },
  {
   "cell_type": "code",
   "execution_count": 5,
   "metadata": {},
   "outputs": [],
   "source": [
    "text = \"\"\"John had always dreamed of starting his own business. One day, he received a call from an unknown number, 415-987-6543, offering him a great opportunity. At first, he was skeptical, but after talking to the representative, he realized it could be exactly what he was looking for.\n",
    "\n",
    "Excited about the idea, he contacted his old friend Lisa, who was an expert in finance. \"I think I need your advice on this,\" he said. \"Can we meet for coffee?\" Lisa agreed and told him to call her later at 212-456-7890.\n",
    "\n",
    "As he started planning, he ran into a problem: he needed a reliable supplier. He searched online and found a company that seemed perfect for his needs. Without hesitation, he dialed 323-555-0192 and spoke to a representative who assured him they could deliver everything on time.\n",
    "\n",
    "After a few weeks, the business was up and running. John printed flyers and distributed them around town, making sure to include his new business number, 646-231-4558, so potential clients could reach him easily.\n",
    "\n",
    "One day, a customer called, saying, \"I saw your ad and I'm interested! Can I come by today?\" The customer left his own number, 917-674-2203, in case John needed to reschedule.\n",
    "\n",
    "As time went on, John's business grew beyond his expectations. He looked back at that first call from 415-987-6543 and smiled—it was the moment that changed everything.\"\"\""
   ]
  },
  {
   "cell_type": "code",
   "execution_count": 8,
   "metadata": {},
   "outputs": [
    {
     "data": {
      "text/plain": [
       "[('415', '987', '6543'),\n",
       " ('212', '456', '7890'),\n",
       " ('323', '555', '0192'),\n",
       " ('646', '231', '4558'),\n",
       " ('917', '674', '2203'),\n",
       " ('415', '987', '6543')]"
      ]
     },
     "execution_count": 8,
     "metadata": {},
     "output_type": "execute_result"
    }
   ],
   "source": [
    "re.findall(r\"(\\d\\d\\d)-(\\d\\d\\d)-(\\d\\d\\d\\d)\", text)"
   ]
  },
  {
   "cell_type": "code",
   "execution_count": 15,
   "metadata": {},
   "outputs": [],
   "source": [
    "text = \"\"\"\n",
    "The Mysterious Journal\n",
    "\n",
    "It all started on a rainy afternoon (a typical London drizzle). James had just returned from the library when he noticed something unusual—a small, leather-bound journal sitting on his desk. He was certain he hadn't left it there (or had he?).\n",
    "\n",
    "Curious, he flipped through the pages. Most of them were blank, except for a few scribbled notes:\n",
    "\n",
    "\"Follow the signs (but not the obvious ones).\"\n",
    "\"Trust the stranger in blue (only if they know your name).\"\n",
    "\"Midnight at the old bridge (don’t be late).\"\n",
    "\n",
    "James felt a chill run down his spine. Was this some kind of elaborate joke? He checked the cover again—no title, no name, nothing. The handwriting looked strangely familiar (almost like his own), but he couldn’t remember ever writing these words.\n",
    "\n",
    "As the clock struck eleven, he debated whether to follow the instructions. What if it was a trap? (Or worse, what if it wasn’t?) In the end, his curiosity won.\n",
    "\n",
    "Throwing on his coat, he stepped into the night, unaware that this would be the beginning of something he could never have imagined (or escaped from).\n",
    "\"\"\""
   ]
  },
  {
   "cell_type": "code",
   "execution_count": 22,
   "metadata": {},
   "outputs": [],
   "source": [
    "text = \"\"\"Andrea and Michele’s Secret Plan\n",
    "\n",
    "Andrea and Michele had always been inseparable. Ever since they met in college (or was it high school? Andrea could never remember), they had shared every adventure, every crazy idea, and—most importantly—every secret.\n",
    "\n",
    "One evening, while sitting at their usual café, Michele leaned in and whispered, “Andrea, have you ever thought about just disappearing for a while?”\n",
    "\n",
    "Andrea raised an eyebrow. “Disappearing? Like, running away?”\n",
    "\n",
    "“Not running away,” Michele corrected. “More like… taking a break from everything.”\n",
    "\n",
    "Andrea took a sip of coffee (which had gone cold by now) and stared at Michele. “And where exactly would we go?”\n",
    "\n",
    "Michele grinned. “That’s the best part. Nowhere specific. Just a map, a car, and no plans.”\n",
    "\n",
    "Andrea hesitated. It sounded tempting, but also completely reckless. “Michele, we have jobs, responsibilities… you know, adult things.”\n",
    "\n",
    "“Exactly why we should do it,” Michele replied. “Come on, Andrea, when was the last time we did something spontaneous?”\n",
    "\n",
    "Andrea sighed, looking at the city lights outside the window. Maybe Michele was right. Maybe they needed this.\n",
    "\n",
    "The next morning, a single note was left on Andrea’s desk: “Gone exploring with Michele. Don’t wait up.”\n",
    "\n",
    "And just like that, they were on the road—no destination, no deadlines, just Andrea, Michele, and the thrill of the unknown.\"\"\""
   ]
  },
  {
   "cell_type": "code",
   "execution_count": 23,
   "metadata": {},
   "outputs": [],
   "source": [
    "pattern = \"Andrea|Michele\""
   ]
  },
  {
   "cell_type": "code",
   "execution_count": 24,
   "metadata": {},
   "outputs": [
    {
     "data": {
      "text/plain": [
       "['Andrea',\n",
       " 'Michele',\n",
       " 'Andrea',\n",
       " 'Michele',\n",
       " 'Andrea',\n",
       " 'Michele',\n",
       " 'Andrea',\n",
       " 'Andrea',\n",
       " 'Michele',\n",
       " 'Andrea',\n",
       " 'Michele',\n",
       " 'Michele',\n",
       " 'Andrea',\n",
       " 'Michele',\n",
       " 'Michele',\n",
       " 'Andrea',\n",
       " 'Andrea',\n",
       " 'Michele',\n",
       " 'Andrea',\n",
       " 'Michele',\n",
       " 'Andrea',\n",
       " 'Michele']"
      ]
     },
     "execution_count": 24,
     "metadata": {},
     "output_type": "execute_result"
    }
   ],
   "source": [
    "re.findall(pattern, text)"
   ]
  },
  {
   "cell_type": "code",
   "execution_count": null,
   "metadata": {},
   "outputs": [],
   "source": []
  }
 ],
 "metadata": {
  "kernelspec": {
   "display_name": "base",
   "language": "python",
   "name": "python3"
  },
  "language_info": {
   "codemirror_mode": {
    "name": "ipython",
    "version": 3
   },
   "file_extension": ".py",
   "mimetype": "text/x-python",
   "name": "python",
   "nbconvert_exporter": "python",
   "pygments_lexer": "ipython3",
   "version": "3.11.5"
  }
 },
 "nbformat": 4,
 "nbformat_minor": 2
}
