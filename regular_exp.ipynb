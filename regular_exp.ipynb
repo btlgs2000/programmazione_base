{
 "cells": [
  {
   "cell_type": "code",
   "execution_count": null,
   "metadata": {},
   "outputs": [],
   "source": [
    "def is_phone_number(text):\n",
    "    \"\"\"Verifica se una \n",
    "    # Controlliamo i trattini\n",
    "    if text[3] != \"-\":\n",
    "        return False\n",
    "\n",
    "    if text[7] != \"-\":\n",
    "        return False\n",
    "    \n",
    "    return Truestringa è un numero di\n",
    "    telefono valido.\n",
    "\n",
    "    Args:\n",
    "        text (str): il testo da verificare\n",
    "    \"\"\"\n",
    "    \n",
    "    if len(text) != 12:\n",
    "        return False\n",
    "    \n",
    "    # Controlliamo le cifre\n",
    "    if not text[0:3].isdecimal():\n",
    "        return False\n",
    "    \n",
    "    if not text[4:7].isdecimal():\n",
    "        return False\n",
    "\n",
    "    if not text[8:].isdecimal():\n",
    "        return False\n",
    "    "
   ]
  },
  {
   "cell_type": "code",
   "execution_count": 9,
   "metadata": {},
   "outputs": [],
   "source": [
    "import re"
   ]
  },
  {
   "cell_type": "code",
   "execution_count": 12,
   "metadata": {},
   "outputs": [
    {
     "name": "stdout",
     "output_type": "stream",
     "text": [
      "<re.Match object; span=(0, 12), match='333-232-3456'>\n"
     ]
    }
   ],
   "source": [
    "# espressione regolare che corrisponde ad un numero\n",
    "# telefonico americano, es. 333-345-7676\n",
    "pattern = r\"\\d\\d\\d-\\d\\d\\d-\\d\\d\\d\\d\"\n",
    "match = re.fullmatch(pattern, \"333-232-3456\")\n",
    "print(match)"
   ]
  },
  {
   "cell_type": "code",
   "execution_count": 16,
   "metadata": {},
   "outputs": [
    {
     "name": "stdout",
     "output_type": "stream",
     "text": [
      "È un numero di telefono americano!\n"
     ]
    }
   ],
   "source": [
    "s = \"333-232-3416\"\n",
    "\n",
    "if re.fullmatch(r\"\\d\\d\\d-\\d\\d\\d-\\d\\d\\d\\d\", s) is not None:\n",
    "    print(\"È un numero di telefono americano!\")"
   ]
  },
  {
   "cell_type": "code",
   "execution_count": 17,
   "metadata": {},
   "outputs": [],
   "source": [
    "text = \"\"\"John had always dreamed of starting his own business. One day, he received a call from an unknown number, 415-987-6543, offering him a great opportunity. At first, he was skeptical, but after talking to the representative, he realized it could be exactly what he was looking for.\n",
    "\n",
    "Excited about the idea, he contacted his old friend Lisa, who was an expert in finance. \"I think I need your advice on this,\" he said. \"Can we meet for coffee?\" Lisa agreed and told him to call her later at 212-456-7890.\n",
    "\n",
    "As he started planning, he ran into a problem: he needed a reliable supplier. He searched online and found a company that seemed perfect for his needs. Without hesitation, he dialed 323-555-0192 and spoke to a representative who assured him they could deliver everything on time.\n",
    "\n",
    "After a few weeks, the business was up and running. John printed flyers and distributed them around town, making sure to include his new business number, 646-231-4558, so potential clients could reach him easily.\n",
    "\n",
    "One day, a customer called, saying, \"I saw your ad and I'm interested! Can I come by today?\" The customer left his own number, 917-674-2203, in case John needed to reschedule.\n",
    "\n",
    "As time went on, John's business grew beyond his expectations. He looked back at that first call from 415-987-6543 and smiled—it was the moment that changed everything.\"\"\""
   ]
  },
  {
   "cell_type": "code",
   "execution_count": 21,
   "metadata": {},
   "outputs": [
    {
     "data": {
      "text/plain": [
       "['415-987-6543',\n",
       " '212-456-7890',\n",
       " '323-555-0192',\n",
       " '646-231-4558',\n",
       " '917-674-2203',\n",
       " '415-987-6543']"
      ]
     },
     "execution_count": 21,
     "metadata": {},
     "output_type": "execute_result"
    }
   ],
   "source": [
    "re.findall(r\"\\d\\d\\d-\\d\\d\\d-\\d\\d\\d\\d\", text)"
   ]
  },
  {
   "cell_type": "code",
   "execution_count": null,
   "metadata": {},
   "outputs": [],
   "source": []
  }
 ],
 "metadata": {
  "kernelspec": {
   "display_name": "base",
   "language": "python",
   "name": "python3"
  },
  "language_info": {
   "codemirror_mode": {
    "name": "ipython",
    "version": 3
   },
   "file_extension": ".py",
   "mimetype": "text/x-python",
   "name": "python",
   "nbconvert_exporter": "python",
   "pygments_lexer": "ipython3",
   "version": "3.11.5"
  }
 },
 "nbformat": 4,
 "nbformat_minor": 2
}
