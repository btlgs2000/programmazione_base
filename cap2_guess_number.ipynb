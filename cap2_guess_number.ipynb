{
 "cells": [
  {
   "cell_type": "code",
   "execution_count": 2,
   "metadata": {},
   "outputs": [],
   "source": [
    "import random"
   ]
  },
  {
   "cell_type": "markdown",
   "metadata": {},
   "source": [
    "# Versione con while"
   ]
  },
  {
   "cell_type": "code",
   "execution_count": null,
   "metadata": {},
   "outputs": [
    {
     "name": "stdout",
     "output_type": "stream",
     "text": [
      "Il numero da indovinare è più piccolo!\n",
      "Il numero da indovinare è più grande!\n"
     ]
    }
   ],
   "source": [
    "generated_number = random.randint(1, 20)\n",
    "user_number = -1\n",
    "while user_number != generated_number:\n",
    "    user_number = int(input(\"Scrivi un numero da 1 a 20\"))\n",
    "    if user_number == generated_number:\n",
    "        print(\"Hai vinto!\")\n",
    "    elif generated_number > user_number:\n",
    "        print(\"Il numero da indovinare è più grande!\")\n",
    "    else:\n",
    "        print(\"Il numero da indovinare è più piccolo!\")"
   ]
  },
  {
   "cell_type": "markdown",
   "metadata": {},
   "source": [
    "# Versione con un numero massimo di tentativi"
   ]
  },
  {
   "cell_type": "code",
   "execution_count": 3,
   "metadata": {},
   "outputs": [
    {
     "name": "stdout",
     "output_type": "stream",
     "text": [
      "Il numero da indovinare è più grande!\n",
      "Il numero da indovinare è più grande!\n",
      "Il numero da indovinare è più grande!\n",
      "Il numero da indovinare è più grande!\n",
      "Il numero da indovinare è più grande!\n",
      "Il numero da indovinare è più grande!\n",
      "Hai perso\n"
     ]
    }
   ],
   "source": [
    "generated_number = random.randint(1, 20)\n",
    "user_number = -1\n",
    "num_trials = 0\n",
    "while True:\n",
    "    user_number = int(input(f\"Trial {num_trials+1}: Scrivi un numero da 1 a 20\"))\n",
    "    if user_number == generated_number:\n",
    "        print(\"Hai vinto!\")\n",
    "        break\n",
    "    elif generated_number > user_number:\n",
    "        print(\"Il numero da indovinare è più grande!\")\n",
    "    else:\n",
    "        print(\"Il numero da indovinare è più piccolo!\")\n",
    "    \n",
    "    num_trials = num_trials + 1\n",
    "    if num_trials >= 6:\n",
    "        print(\"Hai perso\")\n",
    "        break"
   ]
  },
  {
   "cell_type": "markdown",
   "metadata": {},
   "source": [
    "# Versione con for"
   ]
  },
  {
   "cell_type": "code",
   "execution_count": 9,
   "metadata": {},
   "outputs": [
    {
     "name": "stdout",
     "output_type": "stream",
     "text": [
      "Il numero non è valido!\n",
      "Il numero non è valido!\n",
      "Il numero da indovinare è più grande!\n",
      "Il numero da indovinare è più piccolo!\n",
      "Il numero da indovinare è più piccolo!\n",
      "Il numero non è valido!\n",
      "Hai vinto!\n"
     ]
    }
   ],
   "source": [
    "generated_number = random.randint(1, 20)\n",
    "user_number = -1\n",
    "for num_trials in range(1, 7):\n",
    "    while True:\n",
    "        try: \n",
    "            user_number = int(input(f\"Trial {num_trials}: Scrivi un numero da 1 a 20\"))\n",
    "        except:\n",
    "            print(\"Il numero non è valido!\")\n",
    "        else:\n",
    "            break\n",
    "        \n",
    "    if user_number == generated_number:\n",
    "        print(\"Hai vinto!\")\n",
    "        break\n",
    "    elif generated_number > user_number:\n",
    "        print(\"Il numero da indovinare è più grande!\")\n",
    "    else:\n",
    "        print(\"Il numero da indovinare è più piccolo!\")\n",
    "    \n",
    "    if num_trials >= 6:\n",
    "        print(\"Hai perso\")\n",
    "        break"
   ]
  },
  {
   "cell_type": "code",
   "execution_count": 7,
   "metadata": {},
   "outputs": [
    {
     "data": {
      "text/plain": [
       "'il mio nome è 3'"
      ]
     },
     "execution_count": 7,
     "metadata": {},
     "output_type": "execute_result"
    }
   ],
   "source": [
    "nome = 2\n",
    "\n",
    "f\"il mio nome è {nome+1}\""
   ]
  },
  {
   "cell_type": "code",
   "execution_count": 10,
   "metadata": {},
   "outputs": [
    {
     "name": "stdout",
     "output_type": "stream",
     "text": [
      "1\n",
      "2\n",
      "3\n",
      "4\n",
      "5\n",
      "6\n",
      "7\n",
      "8\n",
      "9\n"
     ]
    }
   ],
   "source": [
    "for i in range(1, 10):\n",
    "    print(i)"
   ]
  },
  {
   "cell_type": "code",
   "execution_count": null,
   "metadata": {},
   "outputs": [],
   "source": []
  }
 ],
 "metadata": {
  "kernelspec": {
   "display_name": "base",
   "language": "python",
   "name": "python3"
  },
  "language_info": {
   "codemirror_mode": {
    "name": "ipython",
    "version": 3
   },
   "file_extension": ".py",
   "mimetype": "text/x-python",
   "name": "python",
   "nbconvert_exporter": "python",
   "pygments_lexer": "ipython3",
   "version": "3.11.5"
  }
 },
 "nbformat": 4,
 "nbformat_minor": 2
}
