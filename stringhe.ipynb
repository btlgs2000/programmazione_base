{
 "cells": [
  {
   "cell_type": "code",
   "execution_count": 1,
   "metadata": {},
   "outputs": [],
   "source": [
    "s = \"Andrea\""
   ]
  },
  {
   "cell_type": "code",
   "execution_count": 2,
   "metadata": {},
   "outputs": [
    {
     "name": "stdout",
     "output_type": "stream",
     "text": [
      "Andrea\n"
     ]
    }
   ],
   "source": [
    "print(s)"
   ]
  },
  {
   "cell_type": "code",
   "execution_count": 3,
   "metadata": {},
   "outputs": [],
   "source": [
    "s = 'Andrea'"
   ]
  },
  {
   "cell_type": "code",
   "execution_count": 13,
   "metadata": {},
   "outputs": [
    {
     "name": "stdout",
     "output_type": "stream",
     "text": [
      "a\\a\n"
     ]
    }
   ],
   "source": [
    "print(\"a\\\\a\")"
   ]
  },
  {
   "cell_type": "markdown",
   "metadata": {},
   "source": [
    "Raw string"
   ]
  },
  {
   "cell_type": "code",
   "execution_count": 17,
   "metadata": {},
   "outputs": [
    {
     "name": "stdout",
     "output_type": "stream",
     "text": [
      "a\\n\\n\\nb\n"
     ]
    }
   ],
   "source": [
    "print(r\"a\\n\\n\\nb\")"
   ]
  },
  {
   "cell_type": "code",
   "execution_count": 20,
   "metadata": {},
   "outputs": [],
   "source": [
    "s = \"\"\"Sempre caro mi fu quest’ermo colle,\n",
    "   E questa siepe, che da tanta parte\n",
    "       Dell’ultimo orizzonte il guardo esclude.\n",
    "Ma sedendo e mirando, interminati\n",
    "Spazi di là da quella, e sovrumani\n",
    "Silenzi, e profondissima quiete\n",
    "Io nel pensier mi fingo; ove per poco\n",
    "Il cor non si spaura. E come il vento\n",
    "Odo stormir tra queste piante, io quello\n",
    "Infinito silenzio a questa voce\n",
    "Vo comparando: e mi sovvien l’eterno,\n",
    "E le morte stagioni, e la presente\n",
    "E viva, e il suon di lei. Così tra questa\n",
    "Immensità s’annega il pensier mio:\n",
    "E il naufragar m’è dolce in questo mare.\"\"\""
   ]
  },
  {
   "cell_type": "code",
   "execution_count": 21,
   "metadata": {},
   "outputs": [
    {
     "name": "stdout",
     "output_type": "stream",
     "text": [
      "Sempre caro mi fu quest’ermo colle,\n",
      "   E questa siepe, che da tanta parte\n",
      "       Dell’ultimo orizzonte il guardo esclude.\n",
      "Ma sedendo e mirando, interminati\n",
      "Spazi di là da quella, e sovrumani\n",
      "Silenzi, e profondissima quiete\n",
      "Io nel pensier mi fingo; ove per poco\n",
      "Il cor non si spaura. E come il vento\n",
      "Odo stormir tra queste piante, io quello\n",
      "Infinito silenzio a questa voce\n",
      "Vo comparando: e mi sovvien l’eterno,\n",
      "E le morte stagioni, e la presente\n",
      "E viva, e il suon di lei. Così tra questa\n",
      "Immensità s’annega il pensier mio:\n",
      "E il naufragar m’è dolce in questo mare.\n"
     ]
    }
   ],
   "source": [
    "print(s)"
   ]
  },
  {
   "cell_type": "code",
   "execution_count": 24,
   "metadata": {},
   "outputs": [],
   "source": [
    "def somma(a, b):\n",
    "    \"\"\" Questa funzione somma due numeri\"\"\"\n",
    "    return a + b"
   ]
  },
  {
   "cell_type": "code",
   "execution_count": 25,
   "metadata": {},
   "outputs": [
    {
     "name": "stdout",
     "output_type": "stream",
     "text": [
      "Help on function somma in module __main__:\n",
      "\n",
      "somma(a, b)\n",
      "    Questa funzione somma due numeri\n",
      "\n"
     ]
    }
   ],
   "source": [
    "help(somma)"
   ]
  },
  {
   "cell_type": "code",
   "execution_count": 26,
   "metadata": {},
   "outputs": [
    {
     "name": "stdout",
     "output_type": "stream",
     "text": [
      "Help on built-in function len in module builtins:\n",
      "\n",
      "len(obj, /)\n",
      "    Return the number of items in a container.\n",
      "\n"
     ]
    }
   ],
   "source": [
    "help(len)"
   ]
  },
  {
   "cell_type": "code",
   "execution_count": 27,
   "metadata": {},
   "outputs": [
    {
     "data": {
      "text/plain": [
       "'Sempre caro mi fu quest’ermo colle,\\n   E questa siepe, che da tanta parte\\n       Dell’ultimo orizzonte il guardo esclude.\\nMa sedendo e mirando, interminati\\nSpazi di là da quella, e sovrumani\\nSilenzi, e profondissima quiete\\nIo nel pensier mi fingo; ove per poco\\nIl cor non si spaura. E come il vento\\nOdo stormir tra queste piante, io quello\\nInfinito silenzio a questa voce\\nVo comparando: e mi sovvien l’eterno,\\nE le morte stagioni, e la presente\\nE viva, e il suon di lei. Così tra questa\\nImmensità s’annega il pensier mio:\\nE il naufragar m’è dolce in questo mare.'"
      ]
     },
     "execution_count": 27,
     "metadata": {},
     "output_type": "execute_result"
    }
   ],
   "source": [
    "s"
   ]
  },
  {
   "cell_type": "code",
   "execution_count": 28,
   "metadata": {},
   "outputs": [
    {
     "data": {
      "text/plain": [
       "'S'"
      ]
     },
     "execution_count": 28,
     "metadata": {},
     "output_type": "execute_result"
    }
   ],
   "source": [
    "s[0]"
   ]
  },
  {
   "cell_type": "code",
   "execution_count": 29,
   "metadata": {},
   "outputs": [
    {
     "data": {
      "text/plain": [
       "'e'"
      ]
     },
     "execution_count": 29,
     "metadata": {},
     "output_type": "execute_result"
    }
   ],
   "source": [
    "s[1]"
   ]
  },
  {
   "cell_type": "code",
   "execution_count": 30,
   "metadata": {},
   "outputs": [
    {
     "data": {
      "text/plain": [
       "'.'"
      ]
     },
     "execution_count": 30,
     "metadata": {},
     "output_type": "execute_result"
    }
   ],
   "source": [
    "s[-1]"
   ]
  },
  {
   "cell_type": "code",
   "execution_count": 31,
   "metadata": {},
   "outputs": [
    {
     "data": {
      "text/plain": [
       "'Sempre car'"
      ]
     },
     "execution_count": 31,
     "metadata": {},
     "output_type": "execute_result"
    }
   ],
   "source": [
    "s[:10]"
   ]
  },
  {
   "cell_type": "code",
   "execution_count": 34,
   "metadata": {},
   "outputs": [
    {
     "data": {
      "text/plain": [
       "False"
      ]
     },
     "execution_count": 34,
     "metadata": {},
     "output_type": "execute_result"
    }
   ],
   "source": [
    "\"ndr\" not in \"Andrea\""
   ]
  },
  {
   "cell_type": "markdown",
   "metadata": {},
   "source": [
    "Stringhe di formato"
   ]
  },
  {
   "cell_type": "code",
   "execution_count": 38,
   "metadata": {},
   "outputs": [
    {
     "name": "stdout",
     "output_type": "stream",
     "text": [
      "Hello, my name is Andrea. I am 45 years old.\n"
     ]
    }
   ],
   "source": [
    "name = 'Andrea'\n",
    "age = 45\n",
    "s = 'Hello, my name is ' + name + '. I am ' + str(age) + ' years old.'\n",
    "print(s)"
   ]
  },
  {
   "cell_type": "code",
   "execution_count": 48,
   "metadata": {},
   "outputs": [
    {
     "name": "stdout",
     "output_type": "stream",
     "text": [
      "hello, my name is Andrea. I am 45 years old.\n"
     ]
    }
   ],
   "source": [
    "name = 'Andrea'\n",
    "age = 45\n",
    "s = f\"hello, my name is {name}. I am {age} years old.\"\n",
    "print(s)"
   ]
  },
  {
   "cell_type": "code",
   "execution_count": 56,
   "metadata": {},
   "outputs": [
    {
     "data": {
      "text/plain": [
       "False"
      ]
     },
     "execution_count": 56,
     "metadata": {},
     "output_type": "execute_result"
    }
   ],
   "source": [
    "\"okaiau 786\".isalnum()"
   ]
  },
  {
   "cell_type": "code",
   "execution_count": null,
   "metadata": {},
   "outputs": [],
   "source": []
  }
 ],
 "metadata": {
  "kernelspec": {
   "display_name": "base",
   "language": "python",
   "name": "python3"
  },
  "language_info": {
   "codemirror_mode": {
    "name": "ipython",
    "version": 3
   },
   "file_extension": ".py",
   "mimetype": "text/x-python",
   "name": "python",
   "nbconvert_exporter": "python",
   "pygments_lexer": "ipython3",
   "version": "3.11.5"
  }
 },
 "nbformat": 4,
 "nbformat_minor": 2
}
